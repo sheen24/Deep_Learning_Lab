{
 "cells": [
  {
   "cell_type": "markdown",
   "id": "yrU0iWdalVGx",
   "metadata": {
    "id": "yrU0iWdalVGx"
   },
   "source": [
    "# Importing required libraries"
   ]
  },
  {
   "cell_type": "code",
   "execution_count": null,
   "id": "d1a71881-f598-4227-89fa-cc67b387cdae",
   "metadata": {},
   "outputs": [],
   "source": [
    "# pip install -r requirements.txt\n",
    "!pip install yfinance\n"
   ]
  },
  {
   "cell_type": "code",
   "execution_count": null,
   "id": "7d3ac872-76b9-4ba0-b192-e9affa6466b1",
   "metadata": {
    "id": "4189cf86"
   },
   "outputs": [],
   "source": [
    "import pandas as pd\n",
    "import datetime as dt\n",
    "from datetime import date\n",
    "import matplotlib.pyplot as plt\n",
    "import yfinance as yf\n",
    "import numpy as np\n",
    "import tensorflow as tf"
   ]
  },
  {
   "cell_type": "markdown",
   "id": "Nij98iZElfyQ",
   "metadata": {
    "id": "Nij98iZElfyQ"
   },
   "source": [
    "# Fetching Data from yahoo finance"
   ]
  },
  {
   "cell_type": "code",
   "execution_count": null,
   "id": "d20a4c49",
   "metadata": {
    "id": "d20a4c49"
   },
   "outputs": [],
   "source": [
    "START = \"2012-01-01\"\n",
    "TODAY = date.today().strftime(\"%Y-%m-%d\")\n",
    "def load_data(ticker):\n",
    "    data = yf.download(ticker, START, TODAY)\n",
    "    data.reset_index(inplace=True)\n",
    "    return data"
   ]
  },
  {
   "cell_type": "code",
   "execution_count": null,
   "id": "c5f71e4e",
   "metadata": {
    "colab": {
     "base_uri": "https://localhost:8080/",
     "height": 224
    },
    "id": "c5f71e4e",
    "outputId": "047bd0e5-7e20-4d32-8d6f-0a0c1c5a2983"
   },
   "outputs": [],
   "source": [
    "data = load_data('TCS.NS')\n",
    "df=data\n",
    "df.head()"
   ]
  },
  {
   "cell_type": "code",
   "execution_count": null,
   "id": "c7ec39e4",
   "metadata": {
    "colab": {
     "base_uri": "https://localhost:8080/",
     "height": 206
    },
    "id": "c7ec39e4",
    "outputId": "96670f67-4c6a-40fc-b065-a7820a2f9f46"
   },
   "outputs": [],
   "source": [
    "df = df.drop(['Date','Open','High','Low', 'Volume'], axis = 1)"
   ]
  },
  {
   "cell_type": "code",
   "execution_count": null,
   "id": "ea763bfd-82c5-4550-95c2-d592d1862b66",
   "metadata": {},
   "outputs": [],
   "source": [
    "df.head()"
   ]
  },
  {
   "cell_type": "markdown",
   "id": "M-ojrPeXOxPq",
   "metadata": {
    "id": "M-ojrPeXOxPq"
   },
   "source": [
    "# Plotting Closing Price"
   ]
  },
  {
   "cell_type": "code",
   "execution_count": null,
   "id": "DCvdjb9gOhar",
   "metadata": {
    "colab": {
     "base_uri": "https://localhost:8080/",
     "height": 564
    },
    "id": "DCvdjb9gOhar",
    "outputId": "313d9fe1-80f9-43a6-a204-1051f9acd959"
   },
   "outputs": [],
   "source": [
    "plt.figure(figsize=(14, 7))\n",
    "plt.plot(df['Close'])\n",
    "plt.title(\"Wipro Stock Price at daily time frame\")\n",
    "plt.xlabel(\"Date\")\n",
    "plt.ylabel(\"Price (INR)\")\n",
    "plt.grid(True)\n",
    "plt.show()"
   ]
  },
  {
   "cell_type": "code",
   "execution_count": null,
   "id": "73888072",
   "metadata": {
    "colab": {
     "base_uri": "https://localhost:8080/",
     "height": 424
    },
    "id": "73888072",
    "outputId": "c3ff127c-8c35-4bb6-a18d-a7880266b57f"
   },
   "outputs": [],
   "source": [
    "df"
   ]
  },
  {
   "cell_type": "code",
   "execution_count": null,
   "id": "45a099a7",
   "metadata": {
    "colab": {
     "base_uri": "https://localhost:8080/"
    },
    "id": "45a099a7",
    "outputId": "c3685930-176a-4c2d-b391-69866c4637c5"
   },
   "outputs": [],
   "source": [
    "df.shape"
   ]
  },
  {
   "cell_type": "markdown",
   "id": "bCw5fsrlmfpm",
   "metadata": {
    "id": "bCw5fsrlmfpm"
   },
   "source": [
    "# Dataset Spliting for training (70%) and testing (30%) "
   ]
  },
  {
   "cell_type": "code",
   "execution_count": null,
   "id": "2d16263a-db11-4fba-857b-80b79289e4c0",
   "metadata": {},
   "outputs": [],
   "source": [
    "data"
   ]
  },
  {
   "cell_type": "code",
   "execution_count": null,
   "id": "9610c5fc",
   "metadata": {
    "colab": {
     "base_uri": "https://localhost:8080/"
    },
    "id": "9610c5fc",
    "outputId": "56ee8fcd-ce88-4705-f511-b030a00712c0"
   },
   "outputs": [],
   "source": [
    "# Splitting data into training and testing\n",
    "\n",
    "train = pd.DataFrame(data[0:int(len(data)*0.70)])\n",
    "test = pd.DataFrame(data[int(len(data)*0.70): int(len(data))])\n",
    "print(data.shape)\n",
    "print(train.shape)\n",
    "print(test.shape)"
   ]
  },
  {
   "cell_type": "code",
   "execution_count": null,
   "id": "2cb33dc0",
   "metadata": {
    "colab": {
     "base_uri": "https://localhost:8080/",
     "height": 206
    },
    "id": "2cb33dc0",
    "outputId": "bccf505c-0272-48e4-8b35-138abd6723dd"
   },
   "outputs": [],
   "source": [
    "train.head()"
   ]
  },
  {
   "cell_type": "code",
   "execution_count": null,
   "id": "91f5ef8b",
   "metadata": {
    "colab": {
     "base_uri": "https://localhost:8080/",
     "height": 206
    },
    "id": "91f5ef8b",
    "outputId": "8e92506b-b4ea-4eec-c643-0f6e2d34bb90"
   },
   "outputs": [],
   "source": [
    "test.head()"
   ]
  },
  {
   "cell_type": "markdown",
   "id": "-a818gdwm_WV",
   "metadata": {
    "id": "-a818gdwm_WV"
   },
   "source": [
    "# Dataset normalization by using MinMax scaler \n",
    "---\n",
    "\n"
   ]
  },
  {
   "cell_type": "code",
   "execution_count": null,
   "id": "01f04df7",
   "metadata": {
    "id": "01f04df7"
   },
   "outputs": [],
   "source": [
    "from sklearn.preprocessing import MinMaxScaler\n",
    "scaler = MinMaxScaler(feature_range=(0,1))"
   ]
  },
  {
   "cell_type": "code",
   "execution_count": null,
   "id": "4cdedb87-d9aa-4318-b14b-d4b83ebfeab4",
   "metadata": {},
   "outputs": [],
   "source": [
    "test"
   ]
  },
  {
   "cell_type": "code",
   "execution_count": null,
   "id": "53oSB51dB6Tw",
   "metadata": {
    "id": "53oSB51dB6Tw"
   },
   "outputs": [],
   "source": [
    "train_close = train.iloc[:, 4:5].values\n",
    "test_close = test.iloc[:, 4:5].values"
   ]
  },
  {
   "cell_type": "code",
   "execution_count": null,
   "id": "d97e7ff8",
   "metadata": {
    "colab": {
     "base_uri": "https://localhost:8080/"
    },
    "id": "d97e7ff8",
    "outputId": "eae5e982-ee9f-4be5-af17-b78fc6e6dd45"
   },
   "outputs": [],
   "source": [
    "data_training_array = scaler.fit_transform(train_close)\n",
    "data_training_array"
   ]
  },
  {
   "cell_type": "code",
   "execution_count": null,
   "id": "10227978",
   "metadata": {
    "id": "10227978"
   },
   "outputs": [],
   "source": [
    "x_train = []\n",
    "y_train = [] \n",
    "\n",
    "for i in range(100, data_training_array.shape[0]):\n",
    "    x_train.append(data_training_array[i-100: i])\n",
    "    y_train.append(data_training_array[i, 0])\n",
    "\n",
    "x_train, y_train = np.array(x_train), np.array(y_train) "
   ]
  },
  {
   "cell_type": "code",
   "execution_count": null,
   "id": "0ea6446e",
   "metadata": {
    "colab": {
     "base_uri": "https://localhost:8080/"
    },
    "id": "0ea6446e",
    "outputId": "16c4a903-7a88-43c7-e30b-89149f057b75"
   },
   "outputs": [],
   "source": [
    "x_train.shape"
   ]
  },
  {
   "cell_type": "markdown",
   "id": "dsMIlQ8DnVOJ",
   "metadata": {
    "id": "dsMIlQ8DnVOJ"
   },
   "source": [
    "#  LSTM Model\n",
    "\n",
    "---\n",
    "\n"
   ]
  },
  {
   "cell_type": "code",
   "execution_count": null,
   "id": "e60ed317",
   "metadata": {
    "id": "e60ed317"
   },
   "outputs": [],
   "source": [
    "from tensorflow.keras.layers import Dense, Dropout, LSTM\n",
    "from tensorflow.keras.models import Sequential"
   ]
  },
  {
   "cell_type": "code",
   "execution_count": null,
   "id": "17082610",
   "metadata": {
    "colab": {
     "base_uri": "https://localhost:8080/"
    },
    "id": "17082610",
    "outputId": "e3a8a228-487d-40be-a6ce-7e999581b9d1"
   },
   "outputs": [],
   "source": [
    "from keras.models import Sequential\n",
    "from keras.layers import LSTM, Dropout, Dense\n",
    "\n",
    "model = Sequential()\n",
    "\n",
    "# First LSTM layer with more units and higher dropout rate\n",
    "model.add(LSTM(units=100, activation='relu', return_sequences=True, input_shape=(x_train.shape[1], 1)))\n",
    "model.add(Dropout(0.3))  # Higher dropout for better regularization\n",
    "\n",
    "# Second LSTM layer with more units and higher dropout rate\n",
    "model.add(LSTM(units=150, activation='relu', return_sequences=True))\n",
    "model.add(Dropout(0.4))  # Slightly higher dropout rate\n",
    "\n",
    "# Third LSTM layer with more units and dropout\n",
    "model.add(LSTM(units=200, activation='relu', return_sequences=True))\n",
    "model.add(Dropout(0.5))  # Dropout increased further to prevent overfitting\n",
    "\n",
    "# Fourth LSTM layer with more units\n",
    "model.add(LSTM(units=250, activation='relu'))\n",
    "model.add(Dropout(0.5))  # Same dropout rate for the last layer\n",
    "\n",
    "# Output layer\n",
    "model.add(Dense(units=1))  # Prediction of stock price (regression problem)\n"
   ]
  },
  {
   "cell_type": "code",
   "execution_count": null,
   "id": "5f5a1db3",
   "metadata": {
    "colab": {
     "base_uri": "https://localhost:8080/"
    },
    "id": "5f5a1db3",
    "outputId": "23244ace-c6af-46ed-e068-77c1cd563dd0"
   },
   "outputs": [],
   "source": [
    "model.summary()"
   ]
  },
  {
   "cell_type": "markdown",
   "id": "KgEnUfCnn_1r",
   "metadata": {
    "id": "KgEnUfCnn_1r"
   },
   "source": [
    "#  Model Training\n",
    "\n",
    "---\n",
    "\n"
   ]
  },
  {
   "cell_type": "code",
   "execution_count": null,
   "id": "1d0c9b64",
   "metadata": {
    "colab": {
     "base_uri": "https://localhost:8080/"
    },
    "id": "1d0c9b64",
    "outputId": "8014670b-4fcf-4fe9-d60a-786b45c8b88c"
   },
   "outputs": [],
   "source": [
    "import tensorflow as tf\n",
    "model.compile(optimizer = 'adam', loss = 'mean_squared_error', metrics=[tf.keras.metrics.MeanAbsoluteError()])\n",
    "model.fit(x_train, y_train,epochs =5)"
   ]
  },
  {
   "cell_type": "code",
   "execution_count": null,
   "id": "zG1W6DhzI-hP",
   "metadata": {
    "id": "zG1W6DhzI-hP",
    "scrolled": true
   },
   "outputs": [],
   "source": [
    "model.save('keras_model.h5')"
   ]
  },
  {
   "cell_type": "code",
   "execution_count": null,
   "id": "khcKI1sSJSJB",
   "metadata": {
    "colab": {
     "base_uri": "https://localhost:8080/"
    },
    "id": "khcKI1sSJSJB",
    "outputId": "22c3f1bf-201a-4a60-ec6f-3be005f87ab1"
   },
   "outputs": [],
   "source": [
    "test_close.shape"
   ]
  },
  {
   "cell_type": "code",
   "execution_count": null,
   "id": "6QyF-7KbKaGt",
   "metadata": {
    "id": "6QyF-7KbKaGt"
   },
   "outputs": [],
   "source": [
    "past_80_days = pd.DataFrame(train_close[-80:])"
   ]
  },
  {
   "cell_type": "code",
   "execution_count": null,
   "id": "pKsjLCyGLuOz",
   "metadata": {
    "id": "pKsjLCyGLuOz"
   },
   "outputs": [],
   "source": [
    "test_df = pd.DataFrame(test_close)"
   ]
  },
  {
   "cell_type": "markdown",
   "id": "d9ZKAzB8oKXJ",
   "metadata": {
    "id": "d9ZKAzB8oKXJ"
   },
   "source": [
    "# Defining the final test dataset by including the last 100 rows of the training dataset to predict the first column of the testing dataset.\n",
    "\n",
    "---\n"
   ]
  },
  {
   "cell_type": "code",
   "execution_count": null,
   "id": "UUapqTcVLOj-",
   "metadata": {
    "colab": {
     "base_uri": "https://localhost:8080/"
    },
    "id": "UUapqTcVLOj-",
    "outputId": "0b06f215-d627-419d-8e78-461a857ccf4d",
    "scrolled": true
   },
   "outputs": [],
   "source": [
    "# final_df = past_80_days.append(test_df, ignore_index = True)\n",
    "final_df = pd.concat([past_80_days, test_df], ignore_index=True)"
   ]
  },
  {
   "cell_type": "code",
   "execution_count": null,
   "id": "L5gFYc1hMRjS",
   "metadata": {
    "colab": {
     "base_uri": "https://localhost:8080/",
     "height": 206
    },
    "id": "L5gFYc1hMRjS",
    "outputId": "200e81cd-e7d8-4d77-d727-6d5918b2e074"
   },
   "outputs": [],
   "source": [
    "final_df.head()"
   ]
  },
  {
   "cell_type": "code",
   "execution_count": null,
   "id": "BU7BPmzvMZpZ",
   "metadata": {
    "colab": {
     "base_uri": "https://localhost:8080/"
    },
    "id": "BU7BPmzvMZpZ",
    "outputId": "385dad96-22ef-4fe8-8aea-0a5ce1a7f6a6"
   },
   "outputs": [],
   "source": [
    "input_data = scaler.fit_transform(final_df)\n",
    "input_data"
   ]
  },
  {
   "cell_type": "code",
   "execution_count": null,
   "id": "2E6k84TtMpvD",
   "metadata": {
    "colab": {
     "base_uri": "https://localhost:8080/"
    },
    "id": "2E6k84TtMpvD",
    "outputId": "06c0a3bb-bb78-49f3-d233-4ef1922d7a30"
   },
   "outputs": [],
   "source": [
    "input_data.shape"
   ]
  },
  {
   "cell_type": "markdown",
   "id": "hJzkNc_To9li",
   "metadata": {
    "id": "hJzkNc_To9li"
   },
   "source": [
    "# Testing the model\n",
    "\n",
    "---\n",
    "\n"
   ]
  },
  {
   "cell_type": "code",
   "execution_count": null,
   "id": "d9xCof1CMwwh",
   "metadata": {
    "id": "d9xCof1CMwwh"
   },
   "outputs": [],
   "source": [
    "x_test = []\n",
    "y_test = []\n",
    "for i in range(80, input_data.shape[0]):\n",
    "   x_test.append(input_data[i-80: i])\n",
    "   y_test.append(input_data[i, 0])"
   ]
  },
  {
   "cell_type": "code",
   "execution_count": null,
   "id": "6MGDYZvrNUYc",
   "metadata": {
    "colab": {
     "base_uri": "https://localhost:8080/"
    },
    "id": "6MGDYZvrNUYc",
    "outputId": "4c699113-12cb-4065-b162-29e1761b96a4"
   },
   "outputs": [],
   "source": [
    "x_test, y_test = np.array(x_test), np.array(y_test)\n",
    "print(x_test.shape)\n",
    "print(y_test.shape)"
   ]
  },
  {
   "cell_type": "markdown",
   "id": "PjvHSsrYpFBG",
   "metadata": {
    "id": "PjvHSsrYpFBG"
   },
   "source": [
    "# Prediction of Closing Price and plotting the Graph\n",
    "\n",
    "---\n",
    "\n"
   ]
  },
  {
   "cell_type": "code",
   "execution_count": null,
   "id": "GLMExu7NNdmA",
   "metadata": {
    "colab": {
     "base_uri": "https://localhost:8080/"
    },
    "id": "GLMExu7NNdmA",
    "outputId": "e415e6ce-3846-4044-e1a3-a1f7b17e10e0"
   },
   "outputs": [],
   "source": [
    "# Making predictions\n",
    "\n",
    "y_pred = model.predict(x_test)"
   ]
  },
  {
   "cell_type": "code",
   "execution_count": null,
   "id": "wAmVS__yNu-A",
   "metadata": {
    "colab": {
     "base_uri": "https://localhost:8080/"
    },
    "id": "wAmVS__yNu-A",
    "outputId": "a7d117ba-f92d-4be6-d813-47147ab5cd1c"
   },
   "outputs": [],
   "source": [
    "y_pred.shape"
   ]
  },
  {
   "cell_type": "code",
   "execution_count": null,
   "id": "HFhTH-1aNyqt",
   "metadata": {
    "colab": {
     "base_uri": "https://localhost:8080/"
    },
    "id": "HFhTH-1aNyqt",
    "outputId": "0e288060-20c6-46e6-bae7-93bb208f67ec"
   },
   "outputs": [],
   "source": [
    "y_test"
   ]
  },
  {
   "cell_type": "code",
   "execution_count": null,
   "id": "WDIHSvbHN1vk",
   "metadata": {
    "colab": {
     "base_uri": "https://localhost:8080/"
    },
    "id": "WDIHSvbHN1vk",
    "outputId": "7f0459a8-b46e-4383-bd33-1af9f49a0211"
   },
   "outputs": [],
   "source": [
    "y_pred"
   ]
  },
  {
   "cell_type": "code",
   "execution_count": null,
   "id": "QMFgAgL5N6HX",
   "metadata": {
    "colab": {
     "base_uri": "https://localhost:8080/"
    },
    "id": "QMFgAgL5N6HX",
    "outputId": "ea7365cc-518f-4580-d114-1804855d66a4"
   },
   "outputs": [],
   "source": [
    "scaler.scale_"
   ]
  },
  {
   "cell_type": "code",
   "execution_count": null,
   "id": "tPcp9BKLN-Y8",
   "metadata": {
    "id": "tPcp9BKLN-Y8"
   },
   "outputs": [],
   "source": [
    "scale_factor = 1/0.00041967\n",
    "y_pred = y_pred * scale_factor\n",
    "y_test = y_test * scale_factor\n",
    "y_pred"
   ]
  },
  {
   "cell_type": "code",
   "execution_count": null,
   "id": "a5f0d85e-c2e1-4789-a24e-5512fed15474",
   "metadata": {},
   "outputs": [],
   "source": [
    "import matplotlib.pyplot as plt\n",
    "\n",
    "#  y_test and y_pred are  data arrays\n",
    "plt.figure(figsize=(12, 6))\n",
    "\n",
    "# Custom colors: Green for Original Price and Purple for Predicted Price\n",
    "plt.plot(y_test, 'g', label=\"Original Price\")  # Green\n",
    "plt.plot(y_pred, '#800080', label=\"Predicted Price\")  # Purple using hex code\n",
    "\n",
    "plt.xlabel('Time')\n",
    "plt.ylabel('Price')\n",
    "plt.legend()\n",
    "plt.grid(True)\n",
    "plt.show()"
   ]
  },
  {
   "cell_type": "markdown",
   "id": "m54ljCJrpShP",
   "metadata": {
    "id": "m54ljCJrpShP"
   },
   "source": [
    "# Model Evaluation"
   ]
  },
  {
   "cell_type": "markdown",
   "id": "BdnuOyYQRKRP",
   "metadata": {
    "id": "BdnuOyYQRKRP"
   },
   "source": [
    "Calculation of mean absolute error and R2 Score"
   ]
  },
  {
   "cell_type": "code",
   "execution_count": null,
   "id": "f0e69241-8f7b-40c6-82db-7e12ab706d89",
   "metadata": {
    "colab": {
     "base_uri": "https://localhost:8080/"
    },
    "id": "Yx6JWOKcX3Yo",
    "outputId": "74caad7d-81e9-4866-c771-3e6beccb39d8",
    "scrolled": true
   },
   "outputs": [],
   "source": [
    "from sklearn.metrics import mean_absolute_error\n",
    "\n",
    "mae = mean_absolute_error(y_test, y_pred)\n",
    "mae_percentage = (mae / np.mean(y_test)) * 100\n",
    "print(\"Mean absolute error on test set: {:.2f}%\".format(mae_percentage))\n"
   ]
  },
  {
   "cell_type": "code",
   "execution_count": null,
   "id": "GAAyLdoMNTwZ",
   "metadata": {
    "colab": {
     "base_uri": "https://localhost:8080/"
    },
    "id": "GAAyLdoMNTwZ",
    "outputId": "58c4c588-24d4-49bf-83ac-5a615a631c2e"
   },
   "outputs": [],
   "source": [
    "from sklearn.metrics import r2_score\n",
    "actual = y_test\n",
    "predicted = y_pred\n",
    "r2 = r2_score(actual, predicted)\n",
    "print(\"R2 score:\", r2)"
   ]
  },
  {
   "cell_type": "code",
   "execution_count": null,
   "id": "892af279-cad1-4dbf-8a0c-cad9492fd44f",
   "metadata": {},
   "outputs": [],
   "source": [
    "plt.scatter(actual, predicted)\n",
    "plt.plot([min(actual), max(actual)], [min(predicted), max(predicted)], 'r--')\n",
    "plt.xlabel('Actual Values')\n",
    "plt.ylabel('Predicted Values')\n",
    "plt.title(f'R2 Score: {r2:.2f}')\n",
    "plt.show()"
   ]
  },
  {
   "cell_type": "code",
   "execution_count": null,
   "id": "622e98c4-8fec-4857-a63a-e725bd3e9f38",
   "metadata": {},
   "outputs": [],
   "source": []
  },
  {
   "cell_type": "code",
   "execution_count": null,
   "id": "cc9f8647-0c36-4ba6-be9b-243274d8ccad",
   "metadata": {},
   "outputs": [],
   "source": []
  }
 ],
 "metadata": {
  "accelerator": "GPU",
  "colab": {
   "include_colab_link": true,
   "provenance": []
  },
  "gpuClass": "standard",
  "kernelspec": {
   "display_name": "Python 3 (ipykernel)",
   "language": "python",
   "name": "python3"
  },
  "language_info": {
   "codemirror_mode": {
    "name": "ipython",
    "version": 3
   },
   "file_extension": ".py",
   "mimetype": "text/x-python",
   "name": "python",
   "nbconvert_exporter": "python",
   "pygments_lexer": "ipython3",
   "version": "3.8.10"
  }
 },
 "nbformat": 4,
 "nbformat_minor": 5
}
